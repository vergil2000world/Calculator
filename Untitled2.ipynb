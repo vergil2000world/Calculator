{
  "nbformat": 4,
  "nbformat_minor": 0,
  "metadata": {
    "colab": {
      "provenance": [],
      "authorship_tag": "ABX9TyMChOOYsinqJ1Y4HHhkScY7",
      "include_colab_link": true
    },
    "kernelspec": {
      "name": "python3",
      "display_name": "Python 3"
    },
    "language_info": {
      "name": "python"
    }
  },
  "cells": [
    {
      "cell_type": "markdown",
      "metadata": {
        "id": "view-in-github",
        "colab_type": "text"
      },
      "source": [
        "<a href=\"https://colab.research.google.com/github/vergil2000world/Calculator/blob/master/Untitled2.ipynb\" target=\"_parent\"><img src=\"https://colab.research.google.com/assets/colab-badge.svg\" alt=\"Open In Colab\"/></a>"
      ]
    },
    {
      "cell_type": "code",
      "source": [
        "pip install pulp"
      ],
      "metadata": {
        "colab": {
          "base_uri": "https://localhost:8080/"
        },
        "id": "KErdikVdXndh",
        "outputId": "31397a86-2d8a-44ae-acfa-7619c821530a"
      },
      "execution_count": null,
      "outputs": [
        {
          "output_type": "stream",
          "name": "stdout",
          "text": [
            "Looking in indexes: https://pypi.org/simple, https://us-python.pkg.dev/colab-wheels/public/simple/\n",
            "Collecting pulp\n",
            "  Downloading PuLP-2.7.0-py3-none-any.whl (14.3 MB)\n",
            "\u001b[2K     \u001b[90m━━━━━━━━━━━━━━━━━━━━━━━━━━━━━━━━━━━━━━━━\u001b[0m \u001b[32m14.3/14.3 MB\u001b[0m \u001b[31m65.9 MB/s\u001b[0m eta \u001b[36m0:00:00\u001b[0m\n",
            "\u001b[?25hInstalling collected packages: pulp\n",
            "Successfully installed pulp-2.7.0\n"
          ]
        }
      ]
    },
    {
      "cell_type": "code",
      "source": [
        "pip install pandas\n"
      ],
      "metadata": {
        "colab": {
          "base_uri": "https://localhost:8080/"
        },
        "id": "ZSGDdgdFXygf",
        "outputId": "45b34935-ea1a-464d-8810-153a71f42f52"
      },
      "execution_count": null,
      "outputs": [
        {
          "output_type": "stream",
          "name": "stdout",
          "text": [
            "Looking in indexes: https://pypi.org/simple, https://us-python.pkg.dev/colab-wheels/public/simple/\n",
            "Requirement already satisfied: pandas in /usr/local/lib/python3.9/dist-packages (1.4.4)\n",
            "Requirement already satisfied: pytz>=2020.1 in /usr/local/lib/python3.9/dist-packages (from pandas) (2022.7.1)\n",
            "Requirement already satisfied: numpy>=1.18.5 in /usr/local/lib/python3.9/dist-packages (from pandas) (1.22.4)\n",
            "Requirement already satisfied: python-dateutil>=2.8.1 in /usr/local/lib/python3.9/dist-packages (from pandas) (2.8.2)\n",
            "Requirement already satisfied: six>=1.5 in /usr/local/lib/python3.9/dist-packages (from python-dateutil>=2.8.1->pandas) (1.16.0)\n"
          ]
        }
      ]
    },
    {
      "cell_type": "code",
      "source": [
        "pip install numpy"
      ],
      "metadata": {
        "colab": {
          "base_uri": "https://localhost:8080/"
        },
        "id": "5uhB1OHoX0mt",
        "outputId": "3bfd1fcd-fff7-4ce1-fd0a-297dcf01b936"
      },
      "execution_count": null,
      "outputs": [
        {
          "output_type": "stream",
          "name": "stdout",
          "text": [
            "Looking in indexes: https://pypi.org/simple, https://us-python.pkg.dev/colab-wheels/public/simple/\n",
            "Requirement already satisfied: numpy in /usr/local/lib/python3.9/dist-packages (1.22.4)\n"
          ]
        }
      ]
    },
    {
      "cell_type": "code",
      "source": [
        "from pulp import *\n",
        "import pandas as pd\n",
        "import numpy as np"
      ],
      "metadata": {
        "id": "w011Ym_dbMAy"
      },
      "execution_count": null,
      "outputs": []
    },
    {
      "cell_type": "code",
      "source": [
        "n_truck = 1\n",
        "n_customers = 3\n",
        "n_drones=1\n",
        "\n",
        "# Cost Matrix\n",
        "#{{depot to clt cost, clt to clt fix cost for the truck }}\n",
        "#11', '12', '13', '21', '22', '23', '31', '32', '33\n",
        "cost_matrix_fix = np.array(\n",
        "                       [0,2, 1.5,2,0,1.5,1.5,1.5,0])\n",
        "cost_matrix_truck = np.array(\n",
        "                       [0,3, 2,2,0,3,3, 4,0])\n",
        "cost_matrix_drone = np.array(\n",
        "                       [0,1, 1.5,1.8,0,2,1.5, 2,0])\n",
        "# Demand Matrix\n",
        "cust_demands = np.array([350, 220, 180])\n",
        "\n",
        "# Supply Matrix\n",
        "camion_supply = np.array([600])\n",
        "drone_suply=np.array([25,25])\n",
        "#time constraint for drones\n",
        "time_drone=np.array(\n",
        "                     [0,0.4,0.6,0.4,0,1.2,0.6,1.2,0])"
      ],
      "metadata": {
        "id": "gAuqv3k_bNOJ"
      },
      "execution_count": null,
      "outputs": []
    },
    {
      "cell_type": "code",
      "source": [
        "model = LpProblem(\"VRP with Drones\", LpMinimize)"
      ],
      "metadata": {
        "colab": {
          "base_uri": "https://localhost:8080/"
        },
        "id": "NjTTrfJNds1D",
        "outputId": "7555296d-4018-4648-840d-ac2a80839768"
      },
      "execution_count": null,
      "outputs": [
        {
          "output_type": "stream",
          "name": "stderr",
          "text": [
            "/usr/local/lib/python3.9/dist-packages/pulp/pulp.py:1352: UserWarning: Spaces are not permitted in the name. Converted to '_'\n",
            "  warnings.warn(\"Spaces are not permitted in the name. Converted to '_'\")\n"
          ]
        }
      ]
    },
    {
      "cell_type": "code",
      "source": [
        "variable_truck = [str(i)+str(j) for j in range(1, n_customers+1) for i in range(1, n_customers+1)]\n",
        "variable_truck.sort()\n",
        "print(\"Variable Indices truck Xij:\", variable_truck)\n",
        "variable_truck_u = [str(i)+str(j) for j in range(1, n_customers+1) for i in range(1, n_customers+1)]\n",
        "variable_truck_u.sort()\n",
        "print(\"Variable Indices truck Uij:\", variable_truck_u)\n",
        "variable_d1 = [str(i)+str(j) for j in range(1, n_customers+1) for i in range(1, n_customers+1)]\n",
        "variable_d1.sort()\n",
        "print(\"Variable Indices drone 1:\", variable_d1)\n",
        "variable_d2 = [str(i)+str(j) for j in range(1, n_customers+1) for i in range(1, n_customers+1)]\n",
        "variable_d2.sort()\n",
        "print(\"Variable Indices drone 2:\", variable_d2)"
      ],
      "metadata": {
        "colab": {
          "base_uri": "https://localhost:8080/"
        },
        "id": "usCFtPifd5Ux",
        "outputId": "f897f412-b257-4e52-fee5-d4ce7c6394ee"
      },
      "execution_count": null,
      "outputs": [
        {
          "output_type": "stream",
          "name": "stdout",
          "text": [
            "Variable Indices truck Xij: ['11', '12', '13', '21', '22', '23', '31', '32', '33']\n",
            "Variable Indices truck Uij: ['11', '12', '13', '21', '22', '23', '31', '32', '33']\n",
            "Variable Indices drone 1: ['11', '12', '13', '21', '22', '23', '31', '32', '33']\n",
            "Variable Indices drone 2: ['11', '12', '13', '21', '22', '23', '31', '32', '33']\n"
          ]
        }
      ]
    },
    {
      "cell_type": "code",
      "source": [
        "DV_variables1 = LpVariable.matrix(\"X\", variable_truck, cat = \"Integer\", lowBound= 0  )\n",
        "allocation_truck = np.array(DV_variables1).reshape(1,9)\n",
        "print(\"Decision Variable/Allocation Matrix Xij: \")\n",
        "print(allocation_truck)\n",
        "DV_variables2 = LpVariable.matrix(\"U\", variable_truck, cat = \"Integer\", lowBound= 0  )\n",
        "allocation_truck_u = np.array(DV_variables2).reshape(1,9)\n",
        "print(\"Decision Variable/Allocation Matrix Uij: \")\n",
        "print(allocation_truck_u)\n",
        "DV_variables3 = LpVariable.matrix(\"Y\", variable_truck,cat = \"Integer\", lowBound= 0)\n",
        "allocation_drone = np.array(DV_variables3).reshape(1,9)\n",
        "print(\"Decision Variable/Allocation Matrix Yij: \")\n",
        "print(allocation_drone)"
      ],
      "metadata": {
        "colab": {
          "base_uri": "https://localhost:8080/"
        },
        "id": "tj5qolwEgzUF",
        "outputId": "27a6a2bf-f3e0-4646-d61c-2ab9d6b965c0"
      },
      "execution_count": null,
      "outputs": [
        {
          "output_type": "stream",
          "name": "stdout",
          "text": [
            "Decision Variable/Allocation Matrix Xij: \n",
            "[[X_11 X_12 X_13 X_21 X_22 X_23 X_31 X_32 X_33]]\n",
            "Decision Variable/Allocation Matrix Uij: \n",
            "[[U_11 U_12 U_13 U_21 U_22 U_23 U_31 U_32 U_33]]\n",
            "Decision Variable/Allocation Matrix Yij: \n",
            "[[Y_11 Y_12 Y_13 Y_21 Y_22 Y_23 Y_31 Y_32 Y_33]]\n"
          ]
        }
      ]
    },
    {
      "cell_type": "code",
      "source": [
        "func = lpSum((allocation_truck_u+allocation_truck)*(cost_matrix_truck))\n",
        "func2 = lpSum((allocation_truck_u+allocation_truck)*(cost_matrix_fix))\n",
        "\n",
        "\n",
        "func3 = lpSum(allocation_drone*(cost_matrix_drone+time_drone))\n",
        "obj_func=func+func2+func3\n",
        "print(obj_func)\n",
        "model +=  obj_func\n",
        "#print(model)"
      ],
      "metadata": {
        "colab": {
          "base_uri": "https://localhost:8080/"
        },
        "id": "_eSYLtrjhyT8",
        "outputId": "06e08635-89f8-4157-fd61-8efc80ea61a1"
      },
      "execution_count": 68,
      "outputs": [
        {
          "output_type": "stream",
          "name": "stdout",
          "text": [
            "5.0*U_12 + 3.5*U_13 + 4.0*U_21 + 4.5*U_23 + 4.5*U_31 + 5.5*U_32 + 5.0*X_12 + 3.5*X_13 + 4.0*X_21 + 4.5*X_23 + 4.5*X_31 + 5.5*X_32 + 1.4*Y_12 + 2.1*Y_13 + 2.2*Y_21 + 3.2*Y_23 + 2.1*Y_31 + 3.2*Y_32\n"
          ]
        }
      ]
    }
  ]
}