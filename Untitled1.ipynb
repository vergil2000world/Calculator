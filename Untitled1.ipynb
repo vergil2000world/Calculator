{
  "nbformat": 4,
  "nbformat_minor": 0,
  "metadata": {
    "colab": {
      "provenance": [],
      "authorship_tag": "ABX9TyN1Ic5wuncVJW8nyglfKG3h",
      "include_colab_link": true
    },
    "kernelspec": {
      "name": "python3",
      "display_name": "Python 3"
    },
    "language_info": {
      "name": "python"
    }
  },
  "cells": [
    {
      "cell_type": "markdown",
      "metadata": {
        "id": "view-in-github",
        "colab_type": "text"
      },
      "source": [
        "<a href=\"https://colab.research.google.com/github/vergil2000world/Calculator/blob/master/Untitled1.ipynb\" target=\"_parent\"><img src=\"https://colab.research.google.com/assets/colab-badge.svg\" alt=\"Open In Colab\"/></a>"
      ]
    },
    {
      "cell_type": "code",
      "execution_count": 1,
      "metadata": {
        "colab": {
          "base_uri": "https://localhost:8080/"
        },
        "id": "vGmr8k-MRVAh",
        "outputId": "b06304ad-be72-4935-8c23-1ea79e038b61"
      },
      "outputs": [
        {
          "output_type": "stream",
          "name": "stdout",
          "text": [
            "Looking in indexes: https://pypi.org/simple, https://us-python.pkg.dev/colab-wheels/public/simple/\n",
            "Collecting pulp\n",
            "  Downloading PuLP-2.7.0-py3-none-any.whl (14.3 MB)\n",
            "\u001b[2K     \u001b[90m━━━━━━━━━━━━━━━━━━━━━━━━━━━━━━━━━━━━━━━━\u001b[0m \u001b[32m14.3/14.3 MB\u001b[0m \u001b[31m53.2 MB/s\u001b[0m eta \u001b[36m0:00:00\u001b[0m\n",
            "\u001b[?25hInstalling collected packages: pulp\n",
            "Successfully installed pulp-2.7.0\n"
          ]
        }
      ],
      "source": [
        "pip install pulp\n"
      ]
    },
    {
      "cell_type": "code",
      "source": [
        "pip install numpy"
      ],
      "metadata": {
        "colab": {
          "base_uri": "https://localhost:8080/"
        },
        "id": "DaheffZgRbya",
        "outputId": "5ebb802c-2354-4a81-d4bf-4c2973d3c251"
      },
      "execution_count": 2,
      "outputs": [
        {
          "output_type": "stream",
          "name": "stdout",
          "text": [
            "Looking in indexes: https://pypi.org/simple, https://us-python.pkg.dev/colab-wheels/public/simple/\n",
            "Requirement already satisfied: numpy in /usr/local/lib/python3.9/dist-packages (1.22.4)\n"
          ]
        }
      ]
    },
    {
      "cell_type": "code",
      "source": [
        "pip install pandas"
      ],
      "metadata": {
        "colab": {
          "base_uri": "https://localhost:8080/"
        },
        "id": "wsWAyZBjRfE5",
        "outputId": "a1bd656f-d29f-4012-fbe8-841747481acc"
      },
      "execution_count": 3,
      "outputs": [
        {
          "output_type": "stream",
          "name": "stdout",
          "text": [
            "Looking in indexes: https://pypi.org/simple, https://us-python.pkg.dev/colab-wheels/public/simple/\n",
            "Requirement already satisfied: pandas in /usr/local/lib/python3.9/dist-packages (1.4.4)\n",
            "Requirement already satisfied: python-dateutil>=2.8.1 in /usr/local/lib/python3.9/dist-packages (from pandas) (2.8.2)\n",
            "Requirement already satisfied: pytz>=2020.1 in /usr/local/lib/python3.9/dist-packages (from pandas) (2022.7.1)\n",
            "Requirement already satisfied: numpy>=1.18.5 in /usr/local/lib/python3.9/dist-packages (from pandas) (1.22.4)\n",
            "Requirement already satisfied: six>=1.5 in /usr/local/lib/python3.9/dist-packages (from python-dateutil>=2.8.1->pandas) (1.16.0)\n"
          ]
        }
      ]
    },
    {
      "cell_type": "code",
      "source": [
        "n_warehouses = 2\n",
        "n_customers = 4\n",
        "\n",
        "# Cost Matrix\n",
        "cost_matrix = np.array([[1, 3, 0.5, 4],\n",
        "                       [2.5, 5, 1.5, 2.5]])\n",
        "# Demand Matrix\n",
        "cust_demands = np.array([35000, 22000, 18000, 30000])\n",
        "\n",
        "# Supply Matrix\n",
        "warehouse_supply = np.array([60000, 80000])"
      ],
      "metadata": {
        "colab": {
          "base_uri": "https://localhost:8080/",
          "height": 235
        },
        "id": "XuXbgCqvRowD",
        "outputId": "ec6a419d-587c-41eb-b5a2-ab3266cdea8d"
      },
      "execution_count": 4,
      "outputs": [
        {
          "output_type": "error",
          "ename": "NameError",
          "evalue": "ignored",
          "traceback": [
            "\u001b[0;31m---------------------------------------------------------------------------\u001b[0m",
            "\u001b[0;31mNameError\u001b[0m                                 Traceback (most recent call last)",
            "\u001b[0;32m<ipython-input-4-48c6629fb44d>\u001b[0m in \u001b[0;36m<module>\u001b[0;34m\u001b[0m\n\u001b[1;32m      3\u001b[0m \u001b[0;34m\u001b[0m\u001b[0m\n\u001b[1;32m      4\u001b[0m \u001b[0;31m# Cost Matrix\u001b[0m\u001b[0;34m\u001b[0m\u001b[0;34m\u001b[0m\u001b[0m\n\u001b[0;32m----> 5\u001b[0;31m cost_matrix = np.array([[1, 3, 0.5, 4],\n\u001b[0m\u001b[1;32m      6\u001b[0m                        [2.5, 5, 1.5, 2.5]])\n\u001b[1;32m      7\u001b[0m \u001b[0;31m# Demand Matrix\u001b[0m\u001b[0;34m\u001b[0m\u001b[0;34m\u001b[0m\u001b[0m\n",
            "\u001b[0;31mNameError\u001b[0m: name 'np' is not defined"
          ]
        }
      ]
    },
    {
      "cell_type": "code",
      "source": [
        "from pulp import *\n",
        "import pandas as pd\n",
        "import numpy as np"
      ],
      "metadata": {
        "id": "slr5NYyuRwdx"
      },
      "execution_count": 5,
      "outputs": []
    },
    {
      "cell_type": "code",
      "source": [
        "n_warehouses = 2\n",
        "n_customers = 4\n",
        "\n",
        "# Cost Matrix\n",
        "cost_matrix = np.array([[1, 3, 0.5, 4],\n",
        "                       [2.5, 5, 1.5, 2.5]])\n",
        "# Demand Matrix\n",
        "cust_demands = np.array([35000, 22000, 18000, 30000])\n",
        "\n",
        "# Supply Matrix\n",
        "warehouse_supply = np.array([60000, 80000])"
      ],
      "metadata": {
        "id": "IlF3hNwFRy1J"
      },
      "execution_count": 6,
      "outputs": []
    },
    {
      "cell_type": "code",
      "source": [
        "model = LpProblem(\"Supply-Demand-Problem\", LpMinimize)"
      ],
      "metadata": {
        "id": "CtMwT-ZbR3uQ"
      },
      "execution_count": 7,
      "outputs": []
    },
    {
      "cell_type": "code",
      "source": [
        "variable_names = [str(i)+str(j) for j in range(1, n_customers+1) for i in range(1, n_warehouses+1)]\n",
        "variable_names.sort()\n",
        "print(\"Variable Indices:\", variable_names)"
      ],
      "metadata": {
        "colab": {
          "base_uri": "https://localhost:8080/"
        },
        "id": "FEV65TqoR7Fh",
        "outputId": "f9e6ccce-b4af-4ef0-c19a-560a830465fe"
      },
      "execution_count": 8,
      "outputs": [
        {
          "output_type": "stream",
          "name": "stdout",
          "text": [
            "Variable Indices: ['11', '12', '13', '14', '21', '22', '23', '24']\n"
          ]
        }
      ]
    },
    {
      "cell_type": "code",
      "source": [
        "DV_variables = LpVariable.matrix(\"X\", variable_names, cat = \"Integer\", lowBound= 0 )\n",
        "allocation = np.array(DV_variables).reshape(2,4)\n",
        "print(\"Decision Variable/Allocation Matrix: \")\n",
        "print(allocation)"
      ],
      "metadata": {
        "colab": {
          "base_uri": "https://localhost:8080/"
        },
        "id": "Jdep_NPeR_-p",
        "outputId": "4c16252d-4e60-499a-a29f-443d93a9cad4"
      },
      "execution_count": 9,
      "outputs": [
        {
          "output_type": "stream",
          "name": "stdout",
          "text": [
            "Decision Variable/Allocation Matrix: \n",
            "[[X_11 X_12 X_13 X_14]\n",
            " [X_21 X_22 X_23 X_24]]\n"
          ]
        }
      ]
    },
    {
      "cell_type": "code",
      "source": [
        "obj_func = lpSum(allocation*cost_matrix)\n",
        "print(obj_func)\n",
        "model +=  obj_func\n",
        "print(model)"
      ],
      "metadata": {
        "colab": {
          "base_uri": "https://localhost:8080/"
        },
        "id": "B9_GuReQSDek",
        "outputId": "718d10cd-3869-4abd-ba11-0388b29de646"
      },
      "execution_count": 10,
      "outputs": [
        {
          "output_type": "stream",
          "name": "stdout",
          "text": [
            "X_11 + 3.0*X_12 + 0.5*X_13 + 4.0*X_14 + 2.5*X_21 + 5.0*X_22 + 1.5*X_23 + 2.5*X_24\n",
            "Supply-Demand-Problem:\n",
            "MINIMIZE\n",
            "1.0*X_11 + 3.0*X_12 + 0.5*X_13 + 4.0*X_14 + 2.5*X_21 + 5.0*X_22 + 1.5*X_23 + 2.5*X_24 + 0.0\n",
            "VARIABLES\n",
            "0 <= X_11 Integer\n",
            "0 <= X_12 Integer\n",
            "0 <= X_13 Integer\n",
            "0 <= X_14 Integer\n",
            "0 <= X_21 Integer\n",
            "0 <= X_22 Integer\n",
            "0 <= X_23 Integer\n",
            "0 <= X_24 Integer\n",
            "\n"
          ]
        }
      ]
    },
    {
      "cell_type": "code",
      "source": [
        "for i in range(n_warehouses):\n",
        "    print(lpSum(allocation[i][j] for j in range(n_customers)) <= warehouse_supply[i])\n",
        "    model += lpSum(allocation[i][j] for j in range(n_customers)) <= warehouse_supply[i]"
      ],
      "metadata": {
        "colab": {
          "base_uri": "https://localhost:8080/"
        },
        "id": "oy9w8nvlSJ7X",
        "outputId": "adf40439-aae6-4e17-c581-48b63523aec2"
      },
      "execution_count": 14,
      "outputs": [
        {
          "output_type": "stream",
          "name": "stdout",
          "text": [
            "X_11 + X_12 + X_13 + X_14 <= 60000\n",
            "X_21 + X_22 + X_23 + X_24 <= 80000\n"
          ]
        }
      ]
    },
    {
      "cell_type": "code",
      "source": [
        "# Demand Constraints\n",
        "for j in range(n_customers):\n",
        "    print(lpSum(allocation[i][j] for i in range(n_warehouses)) >= cust_demands[j])\n",
        "    model += lpSum(allocation[i][j] for i in range(n_warehouses)) >= cust_demands[j] , \"Demand Constraints \" + str(j)"
      ],
      "metadata": {
        "colab": {
          "base_uri": "https://localhost:8080/"
        },
        "id": "VpZi4436Sxeq",
        "outputId": "8b9513bb-ecca-40ac-b7a4-e8d28696ce1d"
      },
      "execution_count": 15,
      "outputs": [
        {
          "output_type": "stream",
          "name": "stdout",
          "text": [
            "X_11 + X_21 >= 35000\n",
            "X_12 + X_22 >= 22000\n",
            "X_13 + X_23 >= 18000\n",
            "X_14 + X_24 >= 30000\n"
          ]
        }
      ]
    },
    {
      "cell_type": "code",
      "source": [
        "print(model)"
      ],
      "metadata": {
        "colab": {
          "base_uri": "https://localhost:8080/"
        },
        "id": "DJ0zCHfPS1_Z",
        "outputId": "a64d54b9-200d-4765-cb88-67a45179546f"
      },
      "execution_count": 16,
      "outputs": [
        {
          "output_type": "stream",
          "name": "stdout",
          "text": [
            "Supply-Demand-Problem:\n",
            "MINIMIZE\n",
            "1.0*X_11 + 3.0*X_12 + 0.5*X_13 + 4.0*X_14 + 2.5*X_21 + 5.0*X_22 + 1.5*X_23 + 2.5*X_24 + 0.0\n",
            "SUBJECT TO\n",
            "Supply_Constraints_0: X_11 + X_12 + X_13 + X_14 <= 60000\n",
            "\n",
            "Supply_Constraints_1: X_21 + X_22 + X_23 + X_24 <= 80000\n",
            "\n",
            "_C1: X_11 + X_12 + X_13 + X_14 <= 60000\n",
            "\n",
            "_C2: X_21 + X_22 + X_23 + X_24 <= 80000\n",
            "\n",
            "Demand_Constraints_0: X_11 + X_21 >= 35000\n",
            "\n",
            "Demand_Constraints_1: X_12 + X_22 >= 22000\n",
            "\n",
            "Demand_Constraints_2: X_13 + X_23 >= 18000\n",
            "\n",
            "Demand_Constraints_3: X_14 + X_24 >= 30000\n",
            "\n",
            "VARIABLES\n",
            "0 <= X_11 Integer\n",
            "0 <= X_12 Integer\n",
            "0 <= X_13 Integer\n",
            "0 <= X_14 Integer\n",
            "0 <= X_21 Integer\n",
            "0 <= X_22 Integer\n",
            "0 <= X_23 Integer\n",
            "0 <= X_24 Integer\n",
            "\n"
          ]
        }
      ]
    },
    {
      "cell_type": "code",
      "source": [
        "#model.solve()\n",
        "model.solve(PULP_CBC_CMD())\n",
        "\n",
        "status =  LpStatus[model.status]\n",
        "\n",
        "print(status)"
      ],
      "metadata": {
        "colab": {
          "base_uri": "https://localhost:8080/"
        },
        "id": "V1xOrXWNS8uo",
        "outputId": "07e24309-bc42-4044-8b58-9ec78ae3a695"
      },
      "execution_count": 18,
      "outputs": [
        {
          "output_type": "stream",
          "name": "stdout",
          "text": [
            "Optimal\n"
          ]
        }
      ]
    },
    {
      "cell_type": "code",
      "source": [
        "print(\"Total Cost:\", model.objective.value())\n",
        "\n",
        "# Decision Variables\n",
        "\n",
        "for v in model.variables():\n",
        "    try:\n",
        "        print(v.name,\"=\", v.value())\n",
        "    except:\n",
        "        print(\"error couldnt find value\")"
      ],
      "metadata": {
        "colab": {
          "base_uri": "https://localhost:8080/"
        },
        "id": "SkFLascyTFKo",
        "outputId": "0ffd0bdd-9b28-4a24-cd37-63a13781a843"
      },
      "execution_count": 19,
      "outputs": [
        {
          "output_type": "stream",
          "name": "stdout",
          "text": [
            "Total Cost: 200000.0\n",
            "X_11 = 35000.0\n",
            "X_12 = 22000.0\n",
            "X_13 = 3000.0\n",
            "X_14 = 0.0\n",
            "X_21 = 0.0\n",
            "X_22 = 0.0\n",
            "X_23 = 15000.0\n",
            "X_24 = 30000.0\n"
          ]
        }
      ]
    },
    {
      "cell_type": "code",
      "source": [
        "for i in range(n_warehouses):\n",
        "    print(\"Warehouse \", str(i+1))\n",
        "    print(lpSum(allocation[i][j].value() for j in range(n_customers)))"
      ],
      "metadata": {
        "colab": {
          "base_uri": "https://localhost:8080/"
        },
        "id": "ozRPJptATLAq",
        "outputId": "c2a9ff3f-3688-49b0-cc0f-af97bf7f295e"
      },
      "execution_count": 20,
      "outputs": [
        {
          "output_type": "stream",
          "name": "stdout",
          "text": [
            "Warehouse  1\n",
            "60000.0\n",
            "Warehouse  2\n",
            "45000.0\n"
          ]
        }
      ]
    }
  ]
}